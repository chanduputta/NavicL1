{
 "cells": [
  {
   "cell_type": "code",
   "execution_count": 103,
   "metadata": {},
   "outputs": [],
   "source": [
    "import numpy as np\n",
    "import scipy.constants as sciconst\n",
    "import matplotlib.pyplot as plt\n",
    "import navicsim2 as navs"
   ]
  },
  {
   "attachments": {},
   "cell_type": "markdown",
   "metadata": {},
   "source": [
    "## Simulation constants "
   ]
  },
  {
   "cell_type": "code",
   "execution_count": 104,
   "metadata": {},
   "outputs": [
    {
     "name": "stdout",
     "output_type": "stream",
     "text": [
      "184140\n"
     ]
    }
   ],
   "source": [
    "#code chip rate, sample rate and sample period\n",
    "#refer to navicsim.py for all function detials\n",
    "codeFreqBasis = 1.023e6\n",
    "sampleRate = 10*codeFreqBasis\n",
    "samplePeriod = 1/sampleRate\n",
    "\n",
    "#simulation duration, steps at which values are recorded(here for every 1ms)\n",
    "simDuration = 1\n",
    "timeStep = 1e-3\n",
    "numSteps = round(simDuration/timeStep)\n",
    "samplePerStep = int(timeStep/samplePeriod)\n",
    "codeTable1 = navs.genNavicCaTable_d(sampleRate)\n",
    "codeTableSampCnt1 = len(codeTable1)\n",
    "codeTable2 = navs.genNavicCaTable_p(sampleRate)\n",
    "codeTableSampCnt2 = len(codeTable2)\n",
    "codeTable3 = navs.genNavicCaTable_pl(sampleRate)\n",
    "codeTableSampCnt3 = len(codeTable3)\n",
    "#satId is the satellite ID for multiple satellites to track\n",
    "satId = np.array([5, 7, 3, 1])\n",
    "numChannel = len(satId)"
   ]
  },
  {
   "cell_type": "code",
   "execution_count": 105,
   "metadata": {},
   "outputs": [],
   "source": [
    "c = sciconst.speed_of_light\n",
    "fe = 1176.45e6;              \n",
    "Dt = 12;                     \n",
    "DtLin = 10*np.log10(Dt)\n",
    "Dr = 4;                      \n",
    "DrLin = 10*np.log10(Dr)\n",
    "Pt = 44.8;                   \n",
    "k = sciconst.Boltzmann;  \n",
    "T = 300;                     \n",
    "rxBW = 24e6;                 \n",
    "Nr = k*T*rxBW;               "
   ]
  },
  {
   "cell_type": "code",
   "execution_count": 106,
   "metadata": {},
   "outputs": [],
   "source": [
    "#simulation constants for tracking loop\n",
    "PLLIntegrationTime = 1e-3\n",
    "PLLNoiseBandwidth = 90 # In Hz\n",
    "FLLNoiseBandwidth = 4  # In Hz\n",
    "DLLNoiseBandwidth = 1  # In Hz"
   ]
  },
  {
   "attachments": {},
   "cell_type": "markdown",
   "metadata": {},
   "source": [
    "## Channel configuration"
   ]
  },
  {
   "cell_type": "code",
   "execution_count": 107,
   "metadata": {},
   "outputs": [],
   "source": [
    "#frequrency shift to be applied to the signal\n",
    "fShift = np.array([3589, 2256, 1596, 2568])\n",
    "channelpfo = navs.PhaseFrequencyOffset(sampleRate)\n",
    "#sigDelay is the delay in samples in channels\n",
    "sigDelay = np.array([300.34, 587.21, 425.89, 312.88])\n",
    "dynamicDelayRange = 50\n",
    "staticDelay = np.round(sigDelay - dynamicDelayRange)\n",
    "channelstatd = navs.IntegerDelay(staticDelay)\n",
    "channelvard = navs.FractionalDelay(4, 65535)\n",
    "\n",
    "sqrtPr = np.sqrt(Pt*DtLin*DrLin)*(1/(4*np.pi*(fe+fShift)*sigDelay*samplePeriod))"
   ]
  },
  {
   "attachments": {},
   "cell_type": "markdown",
   "metadata": {},
   "source": [
    "## Run Simulation"
   ]
  },
  {
   "cell_type": "code",
   "execution_count": 108,
   "metadata": {},
   "outputs": [
    {
     "name": "stdout",
     "output_type": "stream",
     "text": [
      "Acquisition results for PRN ID 5\n",
      " Status:True Doppler:3500 Delay/Code-Phase:296/29.6\n",
      "Acquisition results for PRN ID 7\n",
      " Status:True Doppler:2500 Delay/Code-Phase:583/58.3\n",
      "Acquisition results for PRN ID 3\n",
      " Status:True Doppler:1500 Delay/Code-Phase:421/42.1\n",
      "Acquisition results for PRN ID 1\n",
      " Status:True Doppler:2500 Delay/Code-Phase:308/30.8\n"
     ]
    }
   ],
   "source": [
    "datagen = navs.NavicDataGen(50, sampleRate, numChannel)\n",
    "modulator = navs.NavicL5sModulator(sampleRate)\n",
    "\n",
    "rms = lambda x: np.sqrt(np.mean(np.abs(x)**2, axis=0)) \n",
    "\n",
    "for istep in range(numSteps):\n",
    "    \n",
    "    # Baseband modulation\n",
    "    navdata = datagen.GenerateBits(timeStep)\n",
    "    iqsig = modulator.Modulate(navdata,codeTable1[:,satId-1],codeTable2[:,satId-1],codeTable3[:,satId-1])\n",
    "\n",
    "    # Doppler shift\n",
    "    doppsig = channelpfo.Offset(iqsig, fShift)\n",
    "\n",
    "    # Delay\n",
    "    staticDelayedSignal = channelstatd.Delay(doppsig)\n",
    "    leftoutDelay = sigDelay - staticDelay\n",
    "    delayedSig = channelvard.Delay(staticDelayedSignal, leftoutDelay)\n",
    "\n",
    "    # Power scaling\n",
    "    scaledSig = navs.PowerScale(delayedSig, sqrtPr)\n",
    "\n",
    "    # Add signals from each channel\n",
    "    resultsig = np.sum(scaledSig, axis=1)\n",
    "\n",
    "    # Generate noise\n",
    "    noisesig = (np.random.normal(scale=Nr**0.5, size=(samplePerStep, )) + 1j*np.random.normal(scale=Nr**0.5, size=(samplePerStep, )))/2**0.5\n",
    "\n",
    "    # Add thermal noise to composite signal\n",
    "    rxwaveform = resultsig + noisesig\n",
    "\n",
    "    # Scale received signal to have unit power\n",
    "    waveform = rxwaveform/rms(rxwaveform)  \n",
    "\n",
    "    # Perform acquisition once from cold-start\n",
    "    if istep == 0:\n",
    "\n",
    "        # Acqusition doppler search space\n",
    "        fMin = -5000\n",
    "        fMax = 5000\n",
    "        fStep = 500\n",
    "        fSearch = np.arange(fMin, fMax, fStep)\n",
    "\n",
    "        tracker = []\n",
    "        satVis = 0\n",
    "        \n",
    "        # Perform acquisition for each satellite\n",
    "        for prnId in satId:\n",
    "            status, codePhase, doppler = navs.navic_pcps_acquisition(\n",
    "                                            waveform, \n",
    "                                            codeTable1[np.arange(0, samplePerStep)%codeTableSampCnt1, prnId-1],  \n",
    "                                            sampleRate ,fSearch\n",
    "                                        )   \n",
    "            delaySamp = codePhase\n",
    "            codePhase = (codePhase % codeTableSampCnt1)/(sampleRate/codeFreqBasis)\n",
    "\n",
    "            print(f\"Acquisition results for PRN ID {prnId}\\n Status:{status} Doppler:{doppler} Delay/Code-Phase:{delaySamp}/{codePhase}\")\n",
    "\n",
    "            # If a satellite is visible, initialize tracking loop\n",
    "            if(status == True):\n",
    "                satVis += 1\n",
    "\n",
    "                tracker.append(navs.NavicTracker())\n",
    "                tracker[-1].SampleRate = sampleRate\n",
    "                tracker[-1].CenterFrequency = 0\n",
    "                tracker[-1].PLLNoiseBandwidth = PLLNoiseBandwidth\n",
    "                tracker[-1].FLLNoiseBandwidth = FLLNoiseBandwidth\n",
    "                tracker[-1].DLLNoiseBandwidth = DLLNoiseBandwidth\n",
    "                tracker[-1].PLLIntegrationTime = round(PLLIntegrationTime*1e3)\n",
    "                tracker[-1].PRNID = prnId\n",
    "                tracker[-1].InitialDopplerShift = doppler\n",
    "                tracker[-1].InitialCodePhaseOffset = codePhase\n",
    "                tracker[-1].setupImpl()\n",
    "                tracker[-1].resetImpl()\n",
    "\n",
    "            trackDataShape = (numSteps*round(PLLIntegrationTime*1e3), satVis)\n",
    "            y = np.empty(trackDataShape, dtype=np.complex_)\n",
    "            fqyerr = np.empty(trackDataShape)\n",
    "            fqynco = np.empty(trackDataShape)\n",
    "            pherr = np.empty(trackDataShape)\n",
    "            phnco = np.empty(trackDataShape)\n",
    "            delayerr = np.empty(trackDataShape)\n",
    "            delaynco = np.empty(trackDataShape)\n",
    "\n",
    "    # Perform tracking for visible satellites\n",
    "    for i in range(satVis):\n",
    "      y[istep, i], fqyerr[istep, i], fqynco[istep, i], pherr[istep, i], phnco[istep, i], delayerr[istep, i], delaynco[istep, i] = tracker[i].stepImpl(waveform)"
   ]
  },
  {
   "attachments": {},
   "cell_type": "markdown",
   "metadata": {},
   "source": [
    "## Tracking Results"
   ]
  },
  {
   "cell_type": "code",
   "execution_count": 109,
   "metadata": {},
   "outputs": [
    {
     "name": "stdout",
     "output_type": "stream",
     "text": [
      "Tracking results for PRN ID:5\n",
      "Transmitted Bits:\n",
      " [1. 0. 1. 0. 0. 1. 0. 0. 0. 1. 1. 0. 1. 0. 0. 0. 0. 0. 0. 1. 0. 1. 0. 0.\n",
      " 0. 1. 1. 0. 0. 0. 1. 1. 1. 1. 1. 1. 0. 1. 0. 0. 0. 0. 1. 1. 0. 0. 1. 0.\n",
      " 1. 1.]\n",
      "Received bits:\n",
      " [0. 1. 1. 1. 0. 1. 1. 1. 0. 1. 0. 0. 0. 0. 0. 0. 1. 1. 0. 0. 1. 1. 0. 1.\n",
      " 1. 0. 1. 1. 1. 0. 1. 1. 0. 0. 0. 0. 0. 0. 1. 1. 0. 0. 1. 1. 1. 0. 0. 0.\n",
      " 1. 0.]\n",
      "Received bits inverted:\n",
      " [1. 0. 0. 0. 1. 0. 0. 0. 1. 0. 1. 1. 1. 1. 1. 1. 0. 0. 1. 1. 0. 0. 1. 0.\n",
      " 0. 1. 0. 0. 0. 1. 0. 0. 1. 1. 1. 1. 1. 1. 0. 0. 1. 1. 0. 0. 0. 1. 1. 1.\n",
      " 0. 1.]\n"
     ]
    },
    {
     "data": {
      "image/png": "[encoded data removed]",
      "text/plain": [
       "<Figure size 640x480 with 1 Axes>"
      ]
     },
     "metadata": {},
     "output_type": "display_data"
    }
   ],
   "source": [
    "resultId = tracker[0].PRNID\n",
    "satIdx = list(satId).index(resultId)\n",
    "print(f\"Tracking results for PRN ID:{resultId}\")\n",
    "print(\"Transmitted Bits:\\n\",datagen.GetBitStream()[:-1, satIdx])\n",
    "\n",
    "mapbit = lambda y: np.piecewise(np.imag(y), [np.imag(y) < 0, np.imag(y) >= 0], [0, 1])\n",
    "mapbitinv = lambda y: np.piecewise(np.imag(y), [np.imag(y) < 0, np.imag(y) >= 0], [1, 0])\n",
    "\n",
    "print(\"Received bits:\\n\", mapbit(y[:, satIdx])[::20])\n",
    "print(\"Received bits inverted:\\n\", mapbitinv(y[:, satIdx])[::20])\n",
    "\n",
    "plt.plot(np.repeat(datagen.GetBitStream()[:-1, satIdx], 20)[800:])\n",
    "plt.plot(mapbit(y[:, satIdx])[800:])\n",
    "plt.show()"
   ]
  }
 ],
 "metadata": {
  "kernelspec": {
   "display_name": "Python 3",
   "language": "python",
   "name": "python3"
  },
  "language_info": {
   "codemirror_mode": {
    "name": "ipython",
    "version": 3
   },
   "file_extension": ".py",
   "mimetype": "text/x-python",
   "name": "python",
   "nbconvert_exporter": "python",
   "pygments_lexer": "ipython3",
   "version": "3.10.6"
  },
  "orig_nbformat": 4,
  "vscode": {
   "interpreter": {
    "hash": "916dbcbb3f70747c44a77c7bcd40155683ae19c65e1c03b4aa3499c5328201f1"
   }
  }
 },
 "nbformat": 4,
 "nbformat_minor": 2
}
